{
 "cells": [
  {
   "cell_type": "markdown",
   "id": "3a311070",
   "metadata": {},
   "source": [
    "# 1. Introduction"
   ]
  },
  {
   "cell_type": "markdown",
   "id": "08c8f746",
   "metadata": {},
   "source": [
    "## 1.1 Goal"
   ]
  },
  {
   "cell_type": "markdown",
   "id": "675eb301",
   "metadata": {},
   "source": [
    "The goal is to identify the impact of the Covid-19 pandemic globally within the first six months of 2020. I am interested in finding out the most impacted countries and WHO region as well as the how deadly the virus was."
   ]
  },
  {
   "cell_type": "markdown",
   "id": "9169bfc8",
   "metadata": {},
   "source": [
    "## 1.2 Method Overview"
   ]
  },
  {
   "cell_type": "markdown",
   "id": "0584dd0e",
   "metadata": {},
   "source": [
    "Discover statistics of each countries Covid-19 infection rate and impact from Covid-19 dataset from Kaggle, using the following steps:\n",
    "\n",
    "    1. Got a general idea of the underlying data through basic exploration steps.\n",
    "    2. Dealt with unnecessary data and set the index to date.\n",
    "    3. Carried out exploratory data analysis. Explored the spread of the infection over time (months) and per country.\n",
    "    4. Used matplotlib and seaborn to visualise the data."
   ]
  },
  {
   "cell_type": "markdown",
   "id": "60e541ce",
   "metadata": {},
   "source": [
    "## 1.3 Description of the data"
   ]
  },
  {
   "cell_type": "markdown",
   "id": "d1b7c6e3",
   "metadata": {},
   "source": [
    "Data extracted from the 'full-grouped.csv' from Kaggle, which stores the daily statistics of Covid-19 for each country and contains the following columns:\n",
    "\n",
    "    'Date' - The everyday date from January to July\n",
    "    'Country/Region' - Country name\n",
    "    'Confirmed' - Confirmed covid-19 cases per day\n",
    "    'Deaths' - Overall Covid related deaths so far\n",
    "    'Recovered' - Overall recoveries from Covid\n",
    "    'Active' - Active Covid cases\n",
    "    'New cases' - New covid cases confirmed that day\n",
    "    'New deaths' - New covid related deaths confirmed that day\n",
    "    'New recovered' - Recoveries from Covid on that day\n",
    "    'WHO region' - WHO region"
   ]
  },
  {
   "cell_type": "markdown",
   "id": "5c3710c3",
   "metadata": {},
   "source": [
    "## 1.5 Packages Used"
   ]
  },
  {
   "cell_type": "code",
   "execution_count": 107,
   "id": "86de6c98",
   "metadata": {},
   "outputs": [
    {
     "name": "stdout",
     "output_type": "stream",
     "text": [
      "Using matplotlib backend: TkAgg\n",
      "%pylab is deprecated, use %matplotlib inline and import the required libraries.\n",
      "Populating the interactive namespace from numpy and matplotlib\n"
     ]
    }
   ],
   "source": [
    " %pylab\n",
    "import pandas as pd\n",
    "pd.plotting.register_matplotlib_converters()\n",
    "import matplotlib.pyplot as plt\n",
    "%matplotlib inline\n",
    "import seaborn as sns\n"
   ]
  },
  {
   "cell_type": "markdown",
   "id": "ab24e50a",
   "metadata": {},
   "source": [
    "# 2. General Overview of Data"
   ]
  },
  {
   "cell_type": "code",
   "execution_count": 109,
   "id": "65e02112",
   "metadata": {},
   "outputs": [],
   "source": [
    "daily_data = pd.read_csv(\"full_grouped.csv\", parse_dates=['Date'])"
   ]
  },
  {
   "cell_type": "code",
   "execution_count": 34,
   "id": "e104c0f8",
   "metadata": {},
   "outputs": [
    {
     "data": {
      "text/html": [
       "<div>\n",
       "<style scoped>\n",
       "    .dataframe tbody tr th:only-of-type {\n",
       "        vertical-align: middle;\n",
       "    }\n",
       "\n",
       "    .dataframe tbody tr th {\n",
       "        vertical-align: top;\n",
       "    }\n",
       "\n",
       "    .dataframe thead th {\n",
       "        text-align: right;\n",
       "    }\n",
       "</style>\n",
       "<table border=\"1\" class=\"dataframe\">\n",
       "  <thead>\n",
       "    <tr style=\"text-align: right;\">\n",
       "      <th></th>\n",
       "      <th>Date</th>\n",
       "      <th>Country/Region</th>\n",
       "      <th>Confirmed</th>\n",
       "      <th>Deaths</th>\n",
       "      <th>Recovered</th>\n",
       "      <th>Active</th>\n",
       "      <th>New cases</th>\n",
       "      <th>New deaths</th>\n",
       "      <th>New recovered</th>\n",
       "      <th>WHO Region</th>\n",
       "    </tr>\n",
       "  </thead>\n",
       "  <tbody>\n",
       "    <tr>\n",
       "      <th>0</th>\n",
       "      <td>2020-01-22</td>\n",
       "      <td>Afghanistan</td>\n",
       "      <td>0</td>\n",
       "      <td>0</td>\n",
       "      <td>0</td>\n",
       "      <td>0</td>\n",
       "      <td>0</td>\n",
       "      <td>0</td>\n",
       "      <td>0</td>\n",
       "      <td>Eastern Mediterranean</td>\n",
       "    </tr>\n",
       "    <tr>\n",
       "      <th>1</th>\n",
       "      <td>2020-01-22</td>\n",
       "      <td>Albania</td>\n",
       "      <td>0</td>\n",
       "      <td>0</td>\n",
       "      <td>0</td>\n",
       "      <td>0</td>\n",
       "      <td>0</td>\n",
       "      <td>0</td>\n",
       "      <td>0</td>\n",
       "      <td>Europe</td>\n",
       "    </tr>\n",
       "    <tr>\n",
       "      <th>2</th>\n",
       "      <td>2020-01-22</td>\n",
       "      <td>Algeria</td>\n",
       "      <td>0</td>\n",
       "      <td>0</td>\n",
       "      <td>0</td>\n",
       "      <td>0</td>\n",
       "      <td>0</td>\n",
       "      <td>0</td>\n",
       "      <td>0</td>\n",
       "      <td>Africa</td>\n",
       "    </tr>\n",
       "    <tr>\n",
       "      <th>3</th>\n",
       "      <td>2020-01-22</td>\n",
       "      <td>Andorra</td>\n",
       "      <td>0</td>\n",
       "      <td>0</td>\n",
       "      <td>0</td>\n",
       "      <td>0</td>\n",
       "      <td>0</td>\n",
       "      <td>0</td>\n",
       "      <td>0</td>\n",
       "      <td>Europe</td>\n",
       "    </tr>\n",
       "    <tr>\n",
       "      <th>4</th>\n",
       "      <td>2020-01-22</td>\n",
       "      <td>Angola</td>\n",
       "      <td>0</td>\n",
       "      <td>0</td>\n",
       "      <td>0</td>\n",
       "      <td>0</td>\n",
       "      <td>0</td>\n",
       "      <td>0</td>\n",
       "      <td>0</td>\n",
       "      <td>Africa</td>\n",
       "    </tr>\n",
       "    <tr>\n",
       "      <th>...</th>\n",
       "      <td>...</td>\n",
       "      <td>...</td>\n",
       "      <td>...</td>\n",
       "      <td>...</td>\n",
       "      <td>...</td>\n",
       "      <td>...</td>\n",
       "      <td>...</td>\n",
       "      <td>...</td>\n",
       "      <td>...</td>\n",
       "      <td>...</td>\n",
       "    </tr>\n",
       "    <tr>\n",
       "      <th>35151</th>\n",
       "      <td>2020-07-27</td>\n",
       "      <td>West Bank and Gaza</td>\n",
       "      <td>10621</td>\n",
       "      <td>78</td>\n",
       "      <td>3752</td>\n",
       "      <td>6791</td>\n",
       "      <td>152</td>\n",
       "      <td>2</td>\n",
       "      <td>0</td>\n",
       "      <td>Eastern Mediterranean</td>\n",
       "    </tr>\n",
       "    <tr>\n",
       "      <th>35152</th>\n",
       "      <td>2020-07-27</td>\n",
       "      <td>Western Sahara</td>\n",
       "      <td>10</td>\n",
       "      <td>1</td>\n",
       "      <td>8</td>\n",
       "      <td>1</td>\n",
       "      <td>0</td>\n",
       "      <td>0</td>\n",
       "      <td>0</td>\n",
       "      <td>Africa</td>\n",
       "    </tr>\n",
       "    <tr>\n",
       "      <th>35153</th>\n",
       "      <td>2020-07-27</td>\n",
       "      <td>Yemen</td>\n",
       "      <td>1691</td>\n",
       "      <td>483</td>\n",
       "      <td>833</td>\n",
       "      <td>375</td>\n",
       "      <td>10</td>\n",
       "      <td>4</td>\n",
       "      <td>36</td>\n",
       "      <td>Eastern Mediterranean</td>\n",
       "    </tr>\n",
       "    <tr>\n",
       "      <th>35154</th>\n",
       "      <td>2020-07-27</td>\n",
       "      <td>Zambia</td>\n",
       "      <td>4552</td>\n",
       "      <td>140</td>\n",
       "      <td>2815</td>\n",
       "      <td>1597</td>\n",
       "      <td>71</td>\n",
       "      <td>1</td>\n",
       "      <td>465</td>\n",
       "      <td>Africa</td>\n",
       "    </tr>\n",
       "    <tr>\n",
       "      <th>35155</th>\n",
       "      <td>2020-07-27</td>\n",
       "      <td>Zimbabwe</td>\n",
       "      <td>2704</td>\n",
       "      <td>36</td>\n",
       "      <td>542</td>\n",
       "      <td>2126</td>\n",
       "      <td>192</td>\n",
       "      <td>2</td>\n",
       "      <td>24</td>\n",
       "      <td>Africa</td>\n",
       "    </tr>\n",
       "  </tbody>\n",
       "</table>\n",
       "<p>35156 rows × 10 columns</p>\n",
       "</div>"
      ],
      "text/plain": [
       "            Date      Country/Region  Confirmed  Deaths  Recovered  Active  \\\n",
       "0     2020-01-22         Afghanistan          0       0          0       0   \n",
       "1     2020-01-22             Albania          0       0          0       0   \n",
       "2     2020-01-22             Algeria          0       0          0       0   \n",
       "3     2020-01-22             Andorra          0       0          0       0   \n",
       "4     2020-01-22              Angola          0       0          0       0   \n",
       "...          ...                 ...        ...     ...        ...     ...   \n",
       "35151 2020-07-27  West Bank and Gaza      10621      78       3752    6791   \n",
       "35152 2020-07-27      Western Sahara         10       1          8       1   \n",
       "35153 2020-07-27               Yemen       1691     483        833     375   \n",
       "35154 2020-07-27              Zambia       4552     140       2815    1597   \n",
       "35155 2020-07-27            Zimbabwe       2704      36        542    2126   \n",
       "\n",
       "       New cases  New deaths  New recovered             WHO Region  \n",
       "0              0           0              0  Eastern Mediterranean  \n",
       "1              0           0              0                 Europe  \n",
       "2              0           0              0                 Africa  \n",
       "3              0           0              0                 Europe  \n",
       "4              0           0              0                 Africa  \n",
       "...          ...         ...            ...                    ...  \n",
       "35151        152           2              0  Eastern Mediterranean  \n",
       "35152          0           0              0                 Africa  \n",
       "35153         10           4             36  Eastern Mediterranean  \n",
       "35154         71           1            465                 Africa  \n",
       "35155        192           2             24                 Africa  \n",
       "\n",
       "[35156 rows x 10 columns]"
      ]
     },
     "execution_count": 34,
     "metadata": {},
     "output_type": "execute_result"
    }
   ],
   "source": [
    "daily_data"
   ]
  },
  {
   "cell_type": "code",
   "execution_count": 25,
   "id": "2c3ee4e8",
   "metadata": {},
   "outputs": [
    {
     "data": {
      "text/plain": [
       "(35156, 10)"
      ]
     },
     "execution_count": 25,
     "metadata": {},
     "output_type": "execute_result"
    }
   ],
   "source": [
    "daily_data.shape"
   ]
  },
  {
   "cell_type": "code",
   "execution_count": 26,
   "id": "13e37b94",
   "metadata": {},
   "outputs": [
    {
     "name": "stdout",
     "output_type": "stream",
     "text": [
      "<class 'pandas.core.frame.DataFrame'>\n",
      "RangeIndex: 35156 entries, 0 to 35155\n",
      "Data columns (total 10 columns):\n",
      " #   Column          Non-Null Count  Dtype         \n",
      "---  ------          --------------  -----         \n",
      " 0   Date            35156 non-null  datetime64[ns]\n",
      " 1   Country/Region  35156 non-null  object        \n",
      " 2   Confirmed       35156 non-null  int64         \n",
      " 3   Deaths          35156 non-null  int64         \n",
      " 4   Recovered       35156 non-null  int64         \n",
      " 5   Active          35156 non-null  int64         \n",
      " 6   New cases       35156 non-null  int64         \n",
      " 7   New deaths      35156 non-null  int64         \n",
      " 8   New recovered   35156 non-null  int64         \n",
      " 9   WHO Region      35156 non-null  object        \n",
      "dtypes: datetime64[ns](1), int64(7), object(2)\n",
      "memory usage: 2.7+ MB\n"
     ]
    }
   ],
   "source": [
    "daily_data.info()"
   ]
  },
  {
   "cell_type": "markdown",
   "id": "cfd5be52",
   "metadata": {},
   "source": [
    "# 3. Preprocessing"
   ]
  },
  {
   "cell_type": "code",
   "execution_count": 111,
   "id": "39aa029c",
   "metadata": {},
   "outputs": [],
   "source": [
    "#Set Date as index\n",
    "\n",
    "daily_data = daily_data.set_index('Date')"
   ]
  },
  {
   "cell_type": "code",
   "execution_count": 112,
   "id": "64796aa2",
   "metadata": {},
   "outputs": [
    {
     "data": {
      "text/html": [
       "<div>\n",
       "<style scoped>\n",
       "    .dataframe tbody tr th:only-of-type {\n",
       "        vertical-align: middle;\n",
       "    }\n",
       "\n",
       "    .dataframe tbody tr th {\n",
       "        vertical-align: top;\n",
       "    }\n",
       "\n",
       "    .dataframe thead th {\n",
       "        text-align: right;\n",
       "    }\n",
       "</style>\n",
       "<table border=\"1\" class=\"dataframe\">\n",
       "  <thead>\n",
       "    <tr style=\"text-align: right;\">\n",
       "      <th></th>\n",
       "      <th>Country/Region</th>\n",
       "      <th>Confirmed</th>\n",
       "      <th>Deaths</th>\n",
       "      <th>Recovered</th>\n",
       "      <th>Active</th>\n",
       "      <th>New cases</th>\n",
       "      <th>New deaths</th>\n",
       "      <th>New recovered</th>\n",
       "      <th>WHO Region</th>\n",
       "    </tr>\n",
       "    <tr>\n",
       "      <th>Date</th>\n",
       "      <th></th>\n",
       "      <th></th>\n",
       "      <th></th>\n",
       "      <th></th>\n",
       "      <th></th>\n",
       "      <th></th>\n",
       "      <th></th>\n",
       "      <th></th>\n",
       "      <th></th>\n",
       "    </tr>\n",
       "  </thead>\n",
       "  <tbody>\n",
       "    <tr>\n",
       "      <th>2020-01-22</th>\n",
       "      <td>Afghanistan</td>\n",
       "      <td>0</td>\n",
       "      <td>0</td>\n",
       "      <td>0</td>\n",
       "      <td>0</td>\n",
       "      <td>0</td>\n",
       "      <td>0</td>\n",
       "      <td>0</td>\n",
       "      <td>Eastern Mediterranean</td>\n",
       "    </tr>\n",
       "    <tr>\n",
       "      <th>2020-01-22</th>\n",
       "      <td>Albania</td>\n",
       "      <td>0</td>\n",
       "      <td>0</td>\n",
       "      <td>0</td>\n",
       "      <td>0</td>\n",
       "      <td>0</td>\n",
       "      <td>0</td>\n",
       "      <td>0</td>\n",
       "      <td>Europe</td>\n",
       "    </tr>\n",
       "    <tr>\n",
       "      <th>2020-01-22</th>\n",
       "      <td>Algeria</td>\n",
       "      <td>0</td>\n",
       "      <td>0</td>\n",
       "      <td>0</td>\n",
       "      <td>0</td>\n",
       "      <td>0</td>\n",
       "      <td>0</td>\n",
       "      <td>0</td>\n",
       "      <td>Africa</td>\n",
       "    </tr>\n",
       "    <tr>\n",
       "      <th>2020-01-22</th>\n",
       "      <td>Andorra</td>\n",
       "      <td>0</td>\n",
       "      <td>0</td>\n",
       "      <td>0</td>\n",
       "      <td>0</td>\n",
       "      <td>0</td>\n",
       "      <td>0</td>\n",
       "      <td>0</td>\n",
       "      <td>Europe</td>\n",
       "    </tr>\n",
       "    <tr>\n",
       "      <th>2020-01-22</th>\n",
       "      <td>Angola</td>\n",
       "      <td>0</td>\n",
       "      <td>0</td>\n",
       "      <td>0</td>\n",
       "      <td>0</td>\n",
       "      <td>0</td>\n",
       "      <td>0</td>\n",
       "      <td>0</td>\n",
       "      <td>Africa</td>\n",
       "    </tr>\n",
       "    <tr>\n",
       "      <th>...</th>\n",
       "      <td>...</td>\n",
       "      <td>...</td>\n",
       "      <td>...</td>\n",
       "      <td>...</td>\n",
       "      <td>...</td>\n",
       "      <td>...</td>\n",
       "      <td>...</td>\n",
       "      <td>...</td>\n",
       "      <td>...</td>\n",
       "    </tr>\n",
       "    <tr>\n",
       "      <th>2020-07-27</th>\n",
       "      <td>West Bank and Gaza</td>\n",
       "      <td>10621</td>\n",
       "      <td>78</td>\n",
       "      <td>3752</td>\n",
       "      <td>6791</td>\n",
       "      <td>152</td>\n",
       "      <td>2</td>\n",
       "      <td>0</td>\n",
       "      <td>Eastern Mediterranean</td>\n",
       "    </tr>\n",
       "    <tr>\n",
       "      <th>2020-07-27</th>\n",
       "      <td>Western Sahara</td>\n",
       "      <td>10</td>\n",
       "      <td>1</td>\n",
       "      <td>8</td>\n",
       "      <td>1</td>\n",
       "      <td>0</td>\n",
       "      <td>0</td>\n",
       "      <td>0</td>\n",
       "      <td>Africa</td>\n",
       "    </tr>\n",
       "    <tr>\n",
       "      <th>2020-07-27</th>\n",
       "      <td>Yemen</td>\n",
       "      <td>1691</td>\n",
       "      <td>483</td>\n",
       "      <td>833</td>\n",
       "      <td>375</td>\n",
       "      <td>10</td>\n",
       "      <td>4</td>\n",
       "      <td>36</td>\n",
       "      <td>Eastern Mediterranean</td>\n",
       "    </tr>\n",
       "    <tr>\n",
       "      <th>2020-07-27</th>\n",
       "      <td>Zambia</td>\n",
       "      <td>4552</td>\n",
       "      <td>140</td>\n",
       "      <td>2815</td>\n",
       "      <td>1597</td>\n",
       "      <td>71</td>\n",
       "      <td>1</td>\n",
       "      <td>465</td>\n",
       "      <td>Africa</td>\n",
       "    </tr>\n",
       "    <tr>\n",
       "      <th>2020-07-27</th>\n",
       "      <td>Zimbabwe</td>\n",
       "      <td>2704</td>\n",
       "      <td>36</td>\n",
       "      <td>542</td>\n",
       "      <td>2126</td>\n",
       "      <td>192</td>\n",
       "      <td>2</td>\n",
       "      <td>24</td>\n",
       "      <td>Africa</td>\n",
       "    </tr>\n",
       "  </tbody>\n",
       "</table>\n",
       "<p>35156 rows × 9 columns</p>\n",
       "</div>"
      ],
      "text/plain": [
       "                Country/Region  Confirmed  Deaths  Recovered  Active  \\\n",
       "Date                                                                   \n",
       "2020-01-22         Afghanistan          0       0          0       0   \n",
       "2020-01-22             Albania          0       0          0       0   \n",
       "2020-01-22             Algeria          0       0          0       0   \n",
       "2020-01-22             Andorra          0       0          0       0   \n",
       "2020-01-22              Angola          0       0          0       0   \n",
       "...                        ...        ...     ...        ...     ...   \n",
       "2020-07-27  West Bank and Gaza      10621      78       3752    6791   \n",
       "2020-07-27      Western Sahara         10       1          8       1   \n",
       "2020-07-27               Yemen       1691     483        833     375   \n",
       "2020-07-27              Zambia       4552     140       2815    1597   \n",
       "2020-07-27            Zimbabwe       2704      36        542    2126   \n",
       "\n",
       "            New cases  New deaths  New recovered             WHO Region  \n",
       "Date                                                                     \n",
       "2020-01-22          0           0              0  Eastern Mediterranean  \n",
       "2020-01-22          0           0              0                 Europe  \n",
       "2020-01-22          0           0              0                 Africa  \n",
       "2020-01-22          0           0              0                 Europe  \n",
       "2020-01-22          0           0              0                 Africa  \n",
       "...               ...         ...            ...                    ...  \n",
       "2020-07-27        152           2              0  Eastern Mediterranean  \n",
       "2020-07-27          0           0              0                 Africa  \n",
       "2020-07-27         10           4             36  Eastern Mediterranean  \n",
       "2020-07-27         71           1            465                 Africa  \n",
       "2020-07-27        192           2             24                 Africa  \n",
       "\n",
       "[35156 rows x 9 columns]"
      ]
     },
     "execution_count": 112,
     "metadata": {},
     "output_type": "execute_result"
    }
   ],
   "source": [
    "# drop Null values\n",
    "\n",
    "daily_data = daily_data.dropna()\n",
    "daily_data"
   ]
  },
  {
   "cell_type": "markdown",
   "id": "049dd406",
   "metadata": {},
   "source": [
    "# 4. Exploratory Data Analysis"
   ]
  },
  {
   "cell_type": "code",
   "execution_count": 113,
   "id": "806e11b5",
   "metadata": {},
   "outputs": [
    {
     "data": {
      "text/plain": [
       "828508482"
      ]
     },
     "execution_count": 113,
     "metadata": {},
     "output_type": "execute_result"
    }
   ],
   "source": [
    "daily_data.Confirmed.sum()"
   ]
  },
  {
   "cell_type": "code",
   "execution_count": 114,
   "id": "49346839",
   "metadata": {},
   "outputs": [
    {
     "data": {
      "text/html": [
       "<div>\n",
       "<style scoped>\n",
       "    .dataframe tbody tr th:only-of-type {\n",
       "        vertical-align: middle;\n",
       "    }\n",
       "\n",
       "    .dataframe tbody tr th {\n",
       "        vertical-align: top;\n",
       "    }\n",
       "\n",
       "    .dataframe thead th {\n",
       "        text-align: right;\n",
       "    }\n",
       "</style>\n",
       "<table border=\"1\" class=\"dataframe\">\n",
       "  <thead>\n",
       "    <tr style=\"text-align: right;\">\n",
       "      <th></th>\n",
       "      <th>Confirmed</th>\n",
       "      <th>Deaths</th>\n",
       "      <th>Recovered</th>\n",
       "      <th>Active</th>\n",
       "      <th>New cases</th>\n",
       "      <th>New deaths</th>\n",
       "      <th>New recovered</th>\n",
       "    </tr>\n",
       "    <tr>\n",
       "      <th>Country/Region</th>\n",
       "      <th></th>\n",
       "      <th></th>\n",
       "      <th></th>\n",
       "      <th></th>\n",
       "      <th></th>\n",
       "      <th></th>\n",
       "      <th></th>\n",
       "    </tr>\n",
       "  </thead>\n",
       "  <tbody>\n",
       "    <tr>\n",
       "      <th>US</th>\n",
       "      <td>224345948</td>\n",
       "      <td>11011411</td>\n",
       "      <td>56353416</td>\n",
       "      <td>156981121</td>\n",
       "      <td>4290258</td>\n",
       "      <td>148011</td>\n",
       "      <td>1325804</td>\n",
       "    </tr>\n",
       "    <tr>\n",
       "      <th>Brazil</th>\n",
       "      <td>89524967</td>\n",
       "      <td>3938034</td>\n",
       "      <td>54492873</td>\n",
       "      <td>31094060</td>\n",
       "      <td>2442375</td>\n",
       "      <td>87618</td>\n",
       "      <td>1846641</td>\n",
       "    </tr>\n",
       "    <tr>\n",
       "      <th>Russia</th>\n",
       "      <td>45408411</td>\n",
       "      <td>619385</td>\n",
       "      <td>25120448</td>\n",
       "      <td>19668578</td>\n",
       "      <td>816680</td>\n",
       "      <td>13334</td>\n",
       "      <td>602249</td>\n",
       "    </tr>\n",
       "    <tr>\n",
       "      <th>India</th>\n",
       "      <td>40883464</td>\n",
       "      <td>1111831</td>\n",
       "      <td>23783720</td>\n",
       "      <td>15987913</td>\n",
       "      <td>1480073</td>\n",
       "      <td>33408</td>\n",
       "      <td>951166</td>\n",
       "    </tr>\n",
       "    <tr>\n",
       "      <th>Spain</th>\n",
       "      <td>27404045</td>\n",
       "      <td>3033030</td>\n",
       "      <td>15093583</td>\n",
       "      <td>9277432</td>\n",
       "      <td>282827</td>\n",
       "      <td>28432</td>\n",
       "      <td>150376</td>\n",
       "    </tr>\n",
       "    <tr>\n",
       "      <th>United Kingdom</th>\n",
       "      <td>26748587</td>\n",
       "      <td>3997775</td>\n",
       "      <td>126217</td>\n",
       "      <td>22624595</td>\n",
       "      <td>301708</td>\n",
       "      <td>45844</td>\n",
       "      <td>1437</td>\n",
       "    </tr>\n",
       "    <tr>\n",
       "      <th>Italy</th>\n",
       "      <td>26745145</td>\n",
       "      <td>3707717</td>\n",
       "      <td>15673910</td>\n",
       "      <td>7363518</td>\n",
       "      <td>246434</td>\n",
       "      <td>35112</td>\n",
       "      <td>198593</td>\n",
       "    </tr>\n",
       "    <tr>\n",
       "      <th>France</th>\n",
       "      <td>21210926</td>\n",
       "      <td>3048524</td>\n",
       "      <td>7182115</td>\n",
       "      <td>10980287</td>\n",
       "      <td>226920</td>\n",
       "      <td>30212</td>\n",
       "      <td>81212</td>\n",
       "    </tr>\n",
       "    <tr>\n",
       "      <th>Germany</th>\n",
       "      <td>21059152</td>\n",
       "      <td>871322</td>\n",
       "      <td>17107839</td>\n",
       "      <td>3079991</td>\n",
       "      <td>207112</td>\n",
       "      <td>9125</td>\n",
       "      <td>190314</td>\n",
       "    </tr>\n",
       "    <tr>\n",
       "      <th>Iran</th>\n",
       "      <td>19339267</td>\n",
       "      <td>1024136</td>\n",
       "      <td>15200895</td>\n",
       "      <td>3114236</td>\n",
       "      <td>293606</td>\n",
       "      <td>15912</td>\n",
       "      <td>255144</td>\n",
       "    </tr>\n",
       "  </tbody>\n",
       "</table>\n",
       "</div>"
      ],
      "text/plain": [
       "                Confirmed    Deaths  Recovered     Active  New cases  \\\n",
       "Country/Region                                                         \n",
       "US              224345948  11011411   56353416  156981121    4290258   \n",
       "Brazil           89524967   3938034   54492873   31094060    2442375   \n",
       "Russia           45408411    619385   25120448   19668578     816680   \n",
       "India            40883464   1111831   23783720   15987913    1480073   \n",
       "Spain            27404045   3033030   15093583    9277432     282827   \n",
       "United Kingdom   26748587   3997775     126217   22624595     301708   \n",
       "Italy            26745145   3707717   15673910    7363518     246434   \n",
       "France           21210926   3048524    7182115   10980287     226920   \n",
       "Germany          21059152    871322   17107839    3079991     207112   \n",
       "Iran             19339267   1024136   15200895    3114236     293606   \n",
       "\n",
       "                New deaths  New recovered  \n",
       "Country/Region                             \n",
       "US                  148011        1325804  \n",
       "Brazil               87618        1846641  \n",
       "Russia               13334         602249  \n",
       "India                33408         951166  \n",
       "Spain                28432         150376  \n",
       "United Kingdom       45844           1437  \n",
       "Italy                35112         198593  \n",
       "France               30212          81212  \n",
       "Germany               9125         190314  \n",
       "Iran                 15912         255144  "
      ]
     },
     "execution_count": 114,
     "metadata": {},
     "output_type": "execute_result"
    }
   ],
   "source": [
    "#10 countries with the highest number of Covid cases \n",
    "highest_cases = daily_data.groupby('Country/Region').sum().sort_values(by='Confirmed', ascending=False)[:10]\n",
    "highest_cases"
   ]
  },
  {
   "cell_type": "code",
   "execution_count": 89,
   "id": "3a9fd868",
   "metadata": {},
   "outputs": [
    {
     "data": {
      "text/plain": [
       "Text(0.5, 1.0, 'Top 10 countries with the highest confirmed Covid cases')"
      ]
     },
     "execution_count": 89,
     "metadata": {},
     "output_type": "execute_result"
    },
    {
     "data": {
      "image/png": "[encoded data removed]",
      "text/plain": [
       "<Figure size 1008x720 with 1 Axes>"
      ]
     },
     "metadata": {
      "needs_background": "light"
     },
     "output_type": "display_data"
    }
   ],
   "source": [
    "plt.figure(figsize=(14,10))\n",
    "sns.barplot(x = highest_cases.index, y = highest_cases['Confirmed'])\n",
    "plt.title(\"Top 10 countries with the highest confirmed Covid cases\")"
   ]
  },
  {
   "cell_type": "code",
   "execution_count": 115,
   "id": "fe1e659e",
   "metadata": {},
   "outputs": [
    {
     "data": {
      "text/html": [
       "<div>\n",
       "<style scoped>\n",
       "    .dataframe tbody tr th:only-of-type {\n",
       "        vertical-align: middle;\n",
       "    }\n",
       "\n",
       "    .dataframe tbody tr th {\n",
       "        vertical-align: top;\n",
       "    }\n",
       "\n",
       "    .dataframe thead th {\n",
       "        text-align: right;\n",
       "    }\n",
       "</style>\n",
       "<table border=\"1\" class=\"dataframe\">\n",
       "  <thead>\n",
       "    <tr style=\"text-align: right;\">\n",
       "      <th></th>\n",
       "      <th>Confirmed</th>\n",
       "      <th>Deaths</th>\n",
       "      <th>Recovered</th>\n",
       "      <th>Active</th>\n",
       "      <th>New cases</th>\n",
       "      <th>New deaths</th>\n",
       "      <th>New recovered</th>\n",
       "    </tr>\n",
       "    <tr>\n",
       "      <th>Country/Region</th>\n",
       "      <th></th>\n",
       "      <th></th>\n",
       "      <th></th>\n",
       "      <th></th>\n",
       "      <th></th>\n",
       "      <th></th>\n",
       "      <th></th>\n",
       "    </tr>\n",
       "  </thead>\n",
       "  <tbody>\n",
       "    <tr>\n",
       "      <th>US</th>\n",
       "      <td>224345948</td>\n",
       "      <td>11011411</td>\n",
       "      <td>56353416</td>\n",
       "      <td>156981121</td>\n",
       "      <td>4290258</td>\n",
       "      <td>148011</td>\n",
       "      <td>1325804</td>\n",
       "    </tr>\n",
       "    <tr>\n",
       "      <th>United Kingdom</th>\n",
       "      <td>26748587</td>\n",
       "      <td>3997775</td>\n",
       "      <td>126217</td>\n",
       "      <td>22624595</td>\n",
       "      <td>301708</td>\n",
       "      <td>45844</td>\n",
       "      <td>1437</td>\n",
       "    </tr>\n",
       "    <tr>\n",
       "      <th>Brazil</th>\n",
       "      <td>89524967</td>\n",
       "      <td>3938034</td>\n",
       "      <td>54492873</td>\n",
       "      <td>31094060</td>\n",
       "      <td>2442375</td>\n",
       "      <td>87618</td>\n",
       "      <td>1846641</td>\n",
       "    </tr>\n",
       "    <tr>\n",
       "      <th>Italy</th>\n",
       "      <td>26745145</td>\n",
       "      <td>3707717</td>\n",
       "      <td>15673910</td>\n",
       "      <td>7363518</td>\n",
       "      <td>246434</td>\n",
       "      <td>35112</td>\n",
       "      <td>198593</td>\n",
       "    </tr>\n",
       "    <tr>\n",
       "      <th>France</th>\n",
       "      <td>21210926</td>\n",
       "      <td>3048524</td>\n",
       "      <td>7182115</td>\n",
       "      <td>10980287</td>\n",
       "      <td>226920</td>\n",
       "      <td>30212</td>\n",
       "      <td>81212</td>\n",
       "    </tr>\n",
       "    <tr>\n",
       "      <th>Spain</th>\n",
       "      <td>27404045</td>\n",
       "      <td>3033030</td>\n",
       "      <td>15093583</td>\n",
       "      <td>9277432</td>\n",
       "      <td>282827</td>\n",
       "      <td>28432</td>\n",
       "      <td>150376</td>\n",
       "    </tr>\n",
       "    <tr>\n",
       "      <th>Mexico</th>\n",
       "      <td>14946202</td>\n",
       "      <td>1728277</td>\n",
       "      <td>11141225</td>\n",
       "      <td>2076700</td>\n",
       "      <td>395489</td>\n",
       "      <td>44022</td>\n",
       "      <td>303810</td>\n",
       "    </tr>\n",
       "    <tr>\n",
       "      <th>India</th>\n",
       "      <td>40883464</td>\n",
       "      <td>1111831</td>\n",
       "      <td>23783720</td>\n",
       "      <td>15987913</td>\n",
       "      <td>1480073</td>\n",
       "      <td>33408</td>\n",
       "      <td>951166</td>\n",
       "    </tr>\n",
       "    <tr>\n",
       "      <th>Iran</th>\n",
       "      <td>19339267</td>\n",
       "      <td>1024136</td>\n",
       "      <td>15200895</td>\n",
       "      <td>3114236</td>\n",
       "      <td>293606</td>\n",
       "      <td>15912</td>\n",
       "      <td>255144</td>\n",
       "    </tr>\n",
       "    <tr>\n",
       "      <th>Belgium</th>\n",
       "      <td>6281116</td>\n",
       "      <td>963679</td>\n",
       "      <td>1627492</td>\n",
       "      <td>3689945</td>\n",
       "      <td>66428</td>\n",
       "      <td>9822</td>\n",
       "      <td>17452</td>\n",
       "    </tr>\n",
       "  </tbody>\n",
       "</table>\n",
       "</div>"
      ],
      "text/plain": [
       "                Confirmed    Deaths  Recovered     Active  New cases  \\\n",
       "Country/Region                                                         \n",
       "US              224345948  11011411   56353416  156981121    4290258   \n",
       "United Kingdom   26748587   3997775     126217   22624595     301708   \n",
       "Brazil           89524967   3938034   54492873   31094060    2442375   \n",
       "Italy            26745145   3707717   15673910    7363518     246434   \n",
       "France           21210926   3048524    7182115   10980287     226920   \n",
       "Spain            27404045   3033030   15093583    9277432     282827   \n",
       "Mexico           14946202   1728277   11141225    2076700     395489   \n",
       "India            40883464   1111831   23783720   15987913    1480073   \n",
       "Iran             19339267   1024136   15200895    3114236     293606   \n",
       "Belgium           6281116    963679    1627492    3689945      66428   \n",
       "\n",
       "                New deaths  New recovered  \n",
       "Country/Region                             \n",
       "US                  148011        1325804  \n",
       "United Kingdom       45844           1437  \n",
       "Brazil               87618        1846641  \n",
       "Italy                35112         198593  \n",
       "France               30212          81212  \n",
       "Spain                28432         150376  \n",
       "Mexico               44022         303810  \n",
       "India                33408         951166  \n",
       "Iran                 15912         255144  \n",
       "Belgium               9822          17452  "
      ]
     },
     "execution_count": 115,
     "metadata": {},
     "output_type": "execute_result"
    }
   ],
   "source": [
    "#No. of covid deaths per country\n",
    "highest_deaths = daily_data.groupby('Country/Region').sum().sort_values(by='Deaths', ascending=False)[:10]\n",
    "highest_deaths"
   ]
  },
  {
   "cell_type": "code",
   "execution_count": 116,
   "id": "2e4945b4",
   "metadata": {},
   "outputs": [
    {
     "data": {
      "text/plain": [
       "Text(0.5, 1.0, 'Top 10 countries with the highest Covid related deaths')"
      ]
     },
     "execution_count": 116,
     "metadata": {},
     "output_type": "execute_result"
    },
    {
     "data": {
      "image/png": "[encoded data removed]",
      "text/plain": [
       "<Figure size 1008x720 with 1 Axes>"
      ]
     },
     "metadata": {
      "needs_background": "light"
     },
     "output_type": "display_data"
    }
   ],
   "source": [
    "plt.figure(figsize=(14,10))\n",
    "sns.barplot(x = highest_deaths.index, y = highest_deaths['Deaths'])\n",
    "plt.title(\"Top 10 countries with the highest Covid related deaths\")"
   ]
  },
  {
   "cell_type": "code",
   "execution_count": 117,
   "id": "ecb7dc37",
   "metadata": {},
   "outputs": [
    {
     "data": {
      "text/plain": [
       "WHO Region\n",
       "Africa                    21791827\n",
       "Americas                 402261194\n",
       "Eastern Mediterranean     74082892\n",
       "Europe                   248879793\n",
       "South-East Asia           55118365\n",
       "Western Pacific           26374411\n",
       "Name: Confirmed, dtype: int64"
      ]
     },
     "execution_count": 117,
     "metadata": {},
     "output_type": "execute_result"
    }
   ],
   "source": [
    "#covid cases per WHO_regions\n",
    "\n",
    "WHO_region_cases = daily_data.groupby('WHO Region').Confirmed.sum()\n",
    "WHO_region_cases"
   ]
  },
  {
   "cell_type": "code",
   "execution_count": 118,
   "id": "9b883e2a",
   "metadata": {},
   "outputs": [
    {
     "data": {
      "text/plain": [
       "Text(0.5, 1.0, 'Covid cases per WHO region')"
      ]
     },
     "execution_count": 118,
     "metadata": {},
     "output_type": "execute_result"
    },
    {
     "data": {
      "image/png": "[encoded data removed]",
      "text/plain": [
       "<Figure size 1008x720 with 1 Axes>"
      ]
     },
     "metadata": {
      "needs_background": "light"
     },
     "output_type": "display_data"
    }
   ],
   "source": [
    "plt.figure(figsize=(14,10))\n",
    "sns.barplot(x = WHO_region_cases.index, y = WHO_region_cases )\n",
    "plt.title(\"Covid cases per WHO region\")"
   ]
  },
  {
   "cell_type": "code",
   "execution_count": 119,
   "id": "6bbcc850",
   "metadata": {},
   "outputs": [
    {
     "data": {
      "text/plain": [
       "WHO Region\n",
       "Africa                     439978\n",
       "Americas                 19359292\n",
       "Eastern Mediterranean     1924029\n",
       "Europe                   19271040\n",
       "South-East Asia           1458134\n",
       "Western Pacific            932430\n",
       "Name: Deaths, dtype: int64"
      ]
     },
     "execution_count": 119,
     "metadata": {},
     "output_type": "execute_result"
    }
   ],
   "source": [
    "#covid deaths per WHO_regions\n",
    "\n",
    "WHO_region_deaths = daily_data.groupby('WHO Region').Deaths.sum()\n",
    "WHO_region_deaths"
   ]
  },
  {
   "cell_type": "code",
   "execution_count": 219,
   "id": "392a39f9",
   "metadata": {},
   "outputs": [
    {
     "data": {
      "text/plain": [
       "<AxesSubplot:xlabel='WHO Region', ylabel='Deaths'>"
      ]
     },
     "execution_count": 219,
     "metadata": {},
     "output_type": "execute_result"
    },
    {
     "data": {
      "image/png": "[encoded data removed]",
      "text/plain": [
       "<Figure size 1008x720 with 1 Axes>"
      ]
     },
     "metadata": {
      "needs_background": "light"
     },
     "output_type": "display_data"
    }
   ],
   "source": [
    "plt.figure(figsize=(14,10))\n",
    "sns.barplot(x = WHO_region_deaths.index, y = WHO_region_deaths )\n",
    "#plt.title(\"Covid deaths per WHO region\")"
   ]
  },
  {
   "cell_type": "code",
   "execution_count": 222,
   "id": "60232b13",
   "metadata": {},
   "outputs": [
    {
     "data": {
      "text/plain": [
       "<AxesSubplot:xlabel='Date', ylabel='Confirmed'>"
      ]
     },
     "execution_count": 222,
     "metadata": {},
     "output_type": "execute_result"
    },
    {
     "data": {
      "image/png": "[encoded data removed]",
      "text/plain": [
       "<Figure size 1008x432 with 1 Axes>"
      ]
     },
     "metadata": {
      "needs_background": "light"
     },
     "output_type": "display_data"
    }
   ],
   "source": [
    "# number of covid cases over time\n",
    "monthly_data = daily_data['Confirmed'].resample('M').sum()\n",
    "sns.lineplot(data=monthly_data)"
   ]
  },
  {
   "cell_type": "code",
   "execution_count": 209,
   "id": "d1fc4337",
   "metadata": {},
   "outputs": [
    {
     "data": {
      "text/plain": [
       "Deaths        5.236507\n",
       "Active       47.883076\n",
       "Recovered    46.880417\n",
       "dtype: float64"
      ]
     },
     "execution_count": 209,
     "metadata": {},
     "output_type": "execute_result"
    }
   ],
   "source": [
    "# Percentage of covid recovery rate, death rate and total active cases\n",
    "def percent(df):\n",
    "    return df.apply(lambda x: (x / daily_data['Confirmed'].sum()) * 100)\n",
    "\n",
    "sum_data = daily_data[['Deaths', 'Active', 'Recovered']].sum()\n",
    "pie_data = percent(sum_data)\n",
    "\n",
    "pie_data"
   ]
  },
  {
   "cell_type": "code",
   "execution_count": 207,
   "id": "1386744a",
   "metadata": {},
   "outputs": [
    {
     "data": {
      "image/png": "[encoded data removed]",
      "text/plain": [
       "<Figure size 1008x432 with 1 Axes>"
      ]
     },
     "metadata": {},
     "output_type": "display_data"
    }
   ],
   "source": [
    "labels = ['Death rate (5.2%)', 'Active cases (47.9%)', 'Recovery rate (46.9%)' ]\n",
    "\n",
    "plt.pie(pie_data, labels = labels)\n",
    "plt.show()"
   ]
  },
  {
   "cell_type": "markdown",
   "id": "b6cd104e",
   "metadata": {},
   "source": [
    "Summary: \n",
    "\n",
    "1. The US has had the highest number of Covid cases as well as covid related deaths out of all the countries.\n",
    "\n",
    "2. Out of all the WHO regions, the Americas have the been impacted the most by the Covid-19 pandemic in terms of infections and deaths; followed by Europe which, although had a much lower infection rate than the Americas, almost matched the Americas in death rate.\n",
    "\n",
    "3. Covid numbers had a slow and steady rise up until the month of April 2020 when Covid numbers began to grow exponentially.\n",
    "\n",
    "4. Although there were more than 800 million infections globally, the death rate is about 5% with a much higher recovery rate of about 47%.\n"
   ]
  }
 ],
 "metadata": {
  "kernelspec": {
   "display_name": "Python 3 (ipykernel)",
   "language": "python",
   "name": "python3"
  },
  "language_info": {
   "codemirror_mode": {
    "name": "ipython",
    "version": 3
   },
   "file_extension": ".py",
   "mimetype": "text/x-python",
   "name": "python",
   "nbconvert_exporter": "python",
   "pygments_lexer": "ipython3",
   "version": "3.10.5"
  }
 },
 "nbformat": 4,
 "nbformat_minor": 5
}
